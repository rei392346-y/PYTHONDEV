{
 "cells": [
  {
   "cell_type": "code",
   "execution_count": 5,
   "id": "d54f294d",
   "metadata": {},
   "outputs": [
    {
     "name": "stdout",
     "output_type": "stream",
     "text": [
      "税抜価格: 1900円\n",
      "税込価格: 2090円\n",
      "送料は無料です\n",
      "送料込みの価格は2090円です。\n"
     ]
    }
   ],
   "source": [
    "# 課題2：送料込みの価格計算プログラム\n",
    "## 税についての説明がないため、便宜上、”税”は消費税と仮定する\n",
    "## また、消費税は商品や扱いによって、「還付、0％（免税）、8%、10％」等があるが、一律10％固定とする\n",
    "\n",
    "# 税抜価格を入力して変数 'price_without_tax' に格納\n",
    "# input()で受け取った文字列を整数に変換します。\n",
    "price_without_tax = int(input(\"税抜価格を入力してください：\"))\n",
    "\n",
    "# 税込価格を計算し、小数点以下を四捨五入して変数 'price_with_tax' に格納\n",
    "# 消費税は10%として計算します。\n",
    "price_with_tax = round(price_without_tax * 1.10)\n",
    "# 入力された税抜金額と計算された税込金額を表示します\n",
    "print(f\"税抜価格: {price_without_tax}円\")\n",
    "print(f\"税込価格: {price_with_tax}円\")\n",
    "\n",
    "\n",
    "# 送料込みの最終価格を格納する変数を初期化\n",
    "final_price = 0\n",
    "\n",
    "# 税込価格に基づいて送料の有無を判断し、最終価格を計算\n",
    "# 税込価格が2000円未満の場合は送料350円が加算されます。\n",
    "if price_with_tax < 2000:\n",
    "    print(\"送料として350円かかります\")\n",
    "    final_price = price_with_tax + 350\n",
    "else:\n",
    "    print(\"送料は無料です\")\n",
    "    final_price = price_with_tax\n",
    "\n",
    "# 送料込みの価格を画面に表示\n",
    "print(f\"送料込みの価格は{final_price}円です。\")\n"
   ]
  }
 ],
 "metadata": {
  "kernelspec": {
   "display_name": "Python 3",
   "language": "python",
   "name": "python3"
  },
  "language_info": {
   "codemirror_mode": {
    "name": "ipython",
    "version": 3
   },
   "file_extension": ".py",
   "mimetype": "text/x-python",
   "name": "python",
   "nbconvert_exporter": "python",
   "pygments_lexer": "ipython3",
   "version": "3.12.10"
  }
 },
 "nbformat": 4,
 "nbformat_minor": 5
}
