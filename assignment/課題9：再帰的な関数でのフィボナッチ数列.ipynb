{
 "cells": [
  {
   "cell_type": "code",
   "execution_count": 4,
   "id": "cd989690",
   "metadata": {},
   "outputs": [
    {
     "name": "stdout",
     "output_type": "stream",
     "text": [
      "何番目の数値を求めますか？： 8\n",
      "21\n"
     ]
    }
   ],
   "source": [
    "# 課題9：再帰的な関数でのフィボナッチ数列.ipynb\n",
    "\n",
    "# prognum.pyからfibonacci関数をインポート\n",
    "from prognum import fibonacci\n",
    "\n",
    "# ユーザーから何番目の数値を求めたいか入力を受け付ける\n",
    "user_input = input(\"何番目の数値を求めますか？：\")\n",
    "\n",
    "# 入力された値が数字でない場合に備え、try-exceptブロックを使用\n",
    "try:\n",
    "    # 入力された値を表示\n",
    "    print(f\"何番目の数値を求めますか？： {user_input}\")\n",
    "    # 文字列を整数に変換\n",
    "    num = int(user_input)\n",
    "\n",
    "    # fibonacci関数を実行して結果を変数に格納\n",
    "    result = fibonacci(num)\n",
    "\n",
    "    # 結果を出力\n",
    "    print(result)\n",
    "\n",
    "# ValueErrorが発生した場合、エラーメッセージを表示してプログラムを終了\n",
    "except ValueError:\n",
    "    print(\"エラー：数値を入力してください。\")\n"
   ]
  }
 ],
 "metadata": {
  "kernelspec": {
   "display_name": "Python 3",
   "language": "python",
   "name": "python3"
  },
  "language_info": {
   "codemirror_mode": {
    "name": "ipython",
    "version": 3
   },
   "file_extension": ".py",
   "mimetype": "text/x-python",
   "name": "python",
   "nbconvert_exporter": "python",
   "pygments_lexer": "ipython3",
   "version": "3.12.10"
  }
 },
 "nbformat": 4,
 "nbformat_minor": 5
}
