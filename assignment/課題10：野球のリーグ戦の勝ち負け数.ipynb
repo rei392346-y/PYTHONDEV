{
 "cells": [
  {
   "cell_type": "code",
   "execution_count": 5,
   "id": "e531ade6",
   "metadata": {},
   "outputs": [
    {
     "name": "stdout",
     "output_type": "stream",
     "text": [
      "team        win lose draw  rate\n",
      "Archers      77   64    2  0.546\n",
      "Meteors      71   69    3  0.507\n",
      "Cheetahs     69   68    6  0.504\n",
      "Sharks       70   70    3  0.500\n",
      "Pythons      68   73    2  0.482\n",
      "Owls         59   82    2  0.418\n"
     ]
    }
   ],
   "source": [
    "# 課題10：野球のリーグ戦の勝ち負け数.ipynb\n",
    "\n",
    "# 最初のセル：Baseball_Teamクラスの定義\n",
    "class Baseball_Team:\n",
    "    \"\"\"\n",
    "    野球チームの勝敗情報を管理するクラス\n",
    "    \"\"\"\n",
    "    def __init__(self, name, win, lose, draw):\n",
    "        self.name = name\n",
    "        self.win = win\n",
    "        self.lose = lose\n",
    "        self.draw = draw\n",
    "\n",
    "    def calc_win_rate(self):\n",
    "        \"\"\"\n",
    "        勝率を計算するメソッド\n",
    "        引き分けは考慮しない\n",
    "        \"\"\"\n",
    "        # 負け数が0の場合、ゼロ除算を避けるために1.0を返す\n",
    "        if self.win + self.lose == 0:\n",
    "            return 0.0\n",
    "        return self.win / (self.win + self.lose)\n",
    "\n",
    "    def show_team_result(self):\n",
    "        \"\"\"\n",
    "        チームの勝敗情報を指定されたフォーマットで表示するメソッド\n",
    "        \"\"\"\n",
    "        rate = self.calc_win_rate()\n",
    "        # 勝率を小数点以下3桁まで表示\n",
    "        print(f\"{self.name:<10}{self.win:5d}{self.lose:5d}{self.draw:5d}{rate:7.3f}\")\n",
    "\n",
    "\n",
    "# 次のセル：インスタンスの生成とメソッドの呼び出し\n",
    "\n",
    "# チームの見出しを表示\n",
    "print(\"team        win lose draw  rate\")\n",
    "\n",
    "# 6チーム分のインスタンスを生成\n",
    "archers = Baseball_Team(\"Archers\", 77, 64, 2)\n",
    "meteors = Baseball_Team(\"Meteors\", 71, 69, 3)\n",
    "cheetahs = Baseball_Team(\"Cheetahs\", 69, 68, 6)\n",
    "sharks = Baseball_Team(\"Sharks\", 70, 70, 3)\n",
    "pythons = Baseball_Team(\"Pythons\", 68, 73, 2)\n",
    "owls = Baseball_Team(\"Owls\", 59, 82, 2)\n",
    "\n",
    "# 各インスタンスのshow_team_resultメソッドを呼び出し、勝敗情報を表示\n",
    "archers.show_team_result()\n",
    "meteors.show_team_result()\n",
    "cheetahs.show_team_result()\n",
    "sharks.show_team_result()\n",
    "pythons.show_team_result()\n",
    "owls.show_team_result()\n"
   ]
  }
 ],
 "metadata": {
  "kernelspec": {
   "display_name": "Python 3",
   "language": "python",
   "name": "python3"
  },
  "language_info": {
   "codemirror_mode": {
    "name": "ipython",
    "version": 3
   },
   "file_extension": ".py",
   "mimetype": "text/x-python",
   "name": "python",
   "nbconvert_exporter": "python",
   "pygments_lexer": "ipython3",
   "version": "3.12.10"
  }
 },
 "nbformat": 4,
 "nbformat_minor": 5
}
