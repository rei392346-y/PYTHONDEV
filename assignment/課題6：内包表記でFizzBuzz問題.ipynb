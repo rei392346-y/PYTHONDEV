{
 "cells": [
  {
   "cell_type": "code",
   "execution_count": 1,
   "id": "8d925e5f",
   "metadata": {},
   "outputs": [
    {
     "name": "stdout",
     "output_type": "stream",
     "text": [
      "['1', '2', 'Fizz', '4', 'Buzz', 'Fizz', '7', '8', 'Fizz', 'Buzz', '11', 'Fizz', '13', '14', 'FizzBuzz', '16', '17', 'Fizz', '19', 'Buzz', 'Fizz', '22', '23', 'Fizz', 'Buzz', '26', 'Fizz', '28', '29', 'FizzBuzz', '31', '32', 'Fizz', '34', 'Buzz', 'Fizz', '37', '38', 'Fizz', 'Buzz', '41', 'Fizz', '43', '44', 'FizzBuzz', '46', '47', 'Fizz', '49', 'Buzz', 'Fizz', '52', '53', 'Fizz', 'Buzz', '56', 'Fizz', '58', '59', 'FizzBuzz', '61', '62', 'Fizz', '64', 'Buzz', 'Fizz', '67', '68', 'Fizz', 'Buzz', '71', 'Fizz', '73', '74', 'FizzBuzz', '76', '77', 'Fizz', '79', 'Buzz', 'Fizz', '82', '83', 'Fizz', 'Buzz', '86', 'Fizz', '88', '89', 'FizzBuzz', '91', '92', 'Fizz', '94', 'Buzz', 'Fizz', '97', '98', 'Fizz', 'Buzz']\n"
     ]
    }
   ],
   "source": [
    "# 課題6：内包表記でFizzBuzz問題.ipynb\n",
    "\n",
    "# 3と5の倍数かどうかを判定し、対応する文字列を返す関数\n",
    "def get_fizzbuzz_string(number):\n",
    "    \"\"\"\n",
    "    指定された数が3と5の倍数かどうかを判定し、文字列を返します。\n",
    "    \"\"\"\n",
    "\n",
    "# 1. 3と5の両方で割り切れる場合は \"FizzBuzz\"\n",
    "    if number % 15 == 0:\n",
    "        return \"FizzBuzz\"\n",
    "# 2. 3のみで割り切れる場合は \"Fizz\"\n",
    "    elif number % 3 == 0:\n",
    "        return \"Fizz\"\n",
    "# 3. 5のみで割り切れる場合は \"Buzz\"\n",
    "    elif number % 5 == 0:\n",
    "        return \"Buzz\"\n",
    "# 4. それ以外は数値を文字列に変換    \n",
    "    else:\n",
    "        return str(number)\n",
    "\n",
    "# 1から100までの整数について、関数を使ってリストに格納\n",
    "# リスト内包表記を使用して、get_fizzbuzz_string関数の結果をリストに格納します。\n",
    "fizzbuzz_list = [get_fizzbuzz_string(i) for i in range(1, 101)]\n",
    "\n",
    "# リストの中身を全件表示\n",
    "print(fizzbuzz_list)"
   ]
  }
 ],
 "metadata": {
  "kernelspec": {
   "display_name": "Python 3",
   "language": "python",
   "name": "python3"
  },
  "language_info": {
   "codemirror_mode": {
    "name": "ipython",
    "version": 3
   },
   "file_extension": ".py",
   "mimetype": "text/x-python",
   "name": "python",
   "nbconvert_exporter": "python",
   "pygments_lexer": "ipython3",
   "version": "3.12.10"
  }
 },
 "nbformat": 4,
 "nbformat_minor": 5
}
