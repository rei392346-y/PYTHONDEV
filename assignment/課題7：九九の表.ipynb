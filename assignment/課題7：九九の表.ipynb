{
 "cells": [
  {
   "cell_type": "code",
   "execution_count": 5,
   "id": "85de61b6",
   "metadata": {},
   "outputs": [],
   "source": [
    "#@title 九九のリストを作成する\n",
    "# 九九の計算を行う関数\n",
    "def create_multiplication_table():\n",
    "    \"\"\"\n",
    "    九九の表の2次元リストを作成して返します。\n",
    "    \"\"\"\n",
    "    # 2次元リストを格納するための空のリストを初期化\n",
    "    multiplication_table = []\n",
    "    # 縦のループ（1から9まで）\n",
    "    for v in range(1, 10):\n",
    "        # 横の要素を格納するための空のリストを初期化\n",
    "        row = []\n",
    "        # 横のループ（1から9まで）\n",
    "        for h in range(1, 10):\n",
    "            # 縦と横の積を計算し、横のリストに追加\n",
    "            row.append(v * h)\n",
    "        # 横のリストを2次元リストに追加\n",
    "        multiplication_table.append(row)\n",
    "    return multiplication_table\n",
    "\n",
    "# 関数を呼び出して九九のリストを作成\n",
    "multiplication_table = create_multiplication_table()"
   ]
  },
  {
   "cell_type": "code",
   "execution_count": 8,
   "id": "6db57fed",
   "metadata": {},
   "outputs": [
    {
     "name": "stdout",
     "output_type": "stream",
     "text": [
      "  1  2  3  4  5  6  7  8  9\n",
      "  2  4  6  8 10 12 14 16 18\n",
      "  3  6  9 12 15 18 21 24 27\n",
      "  4  8 12 16 20 24 28 32 36\n",
      "  5 10 15 20 25 30 35 40 45\n",
      "  6 12 18 24 30 36 42 48 54\n",
      "  7 14 21 28 35 42 49 56 63\n",
      "  8 16 24 32 40 48 56 64 72\n",
      "  9 18 27 36 45 54 63 72 81\n"
     ]
    }
   ],
   "source": [
    "#@title 九九の表を表示する\n",
    "# 作成した2次元リストから値を取り出して九九の表を表示する\n",
    "for row in multiplication_table:\n",
    "    for number in row:\n",
    "        print(f\"{number:3d}\", end=\"\")\n",
    "    \n",
    "    print(\"\")"
   ]
  }
 ],
 "metadata": {
  "kernelspec": {
   "display_name": "Python 3",
   "language": "python",
   "name": "python3"
  },
  "language_info": {
   "codemirror_mode": {
    "name": "ipython",
    "version": 3
   },
   "file_extension": ".py",
   "mimetype": "text/x-python",
   "name": "python",
   "nbconvert_exporter": "python",
   "pygments_lexer": "ipython3",
   "version": "3.12.10"
  }
 },
 "nbformat": 4,
 "nbformat_minor": 5
}
