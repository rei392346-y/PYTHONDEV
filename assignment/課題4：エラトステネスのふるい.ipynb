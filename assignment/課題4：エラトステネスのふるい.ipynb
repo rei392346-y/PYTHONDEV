{
 "cells": [
  {
   "cell_type": "code",
   "execution_count": 7,
   "id": "754cce4e",
   "metadata": {},
   "outputs": [
    {
     "name": "stdout",
     "output_type": "stream",
     "text": [
      "素数:\n",
      "2\n",
      "3\n",
      "5\n",
      "7\n",
      "11\n",
      "13\n",
      "17\n",
      "19\n",
      "23\n",
      "29\n",
      "31\n",
      "37\n",
      "41\n",
      "43\n",
      "47\n",
      "53\n",
      "59\n",
      "61\n",
      "67\n",
      "71\n",
      "73\n",
      "79\n",
      "83\n",
      "89\n",
      "97\n"
     ]
    }
   ],
   "source": [
    "# 課題4：エラトステネスのふるい.ipynb\n",
    "\n",
    "# 1から100までの数を管理するリストを作成\n",
    "# Falseが素数、Trueが素数ではないことを示す\n",
    "# リストのインデックスと数が対応するように、101要素のリストを用意\n",
    "is_not_prime = [False] * 101\n",
    "\n",
    "# 0と1は素数ではない\n",
    "is_not_prime[0] = is_not_prime[1] = True\n",
    "\n",
    "# エラトステネスのふるいを実行\n",
    "# 100以下の合成数（素数ではない数）は、必ず100の平方根である10以下の素数を約数に持つため\n",
    "# 2から100の平方根（10）まで繰り返す\n",
    "for i in range(2, int(101**0.5) + 1):\n",
    "    # iが素数（is_not_prime[i] が False）の場合、その倍数を素数ではないとマークする\n",
    "    if not is_not_prime[i]:\n",
    "        # iの倍数をリストから除外する\n",
    "        # multiple はiの値に応じて、素数ではない数をマークする\n",
    "        # i*iから開始するのは、それより小さい倍数は既にマークされているため\n",
    "        for multiple in range(i*i, 101, i):\n",
    "        # i が 2 のとき:\n",
    "        # multiple は range(2*2, 101, 2)で、range(4, 101, 2)となり、「4, 6, 8, 10, ... 100」の範囲で繰り返し\n",
    "        # i が 3 のとき:\n",
    "        # multiple は range(3*3, 101, 3)で、range(9, 101, 3)となり、「9, 12, 15, 18, ...99」の範囲で繰り返し\n",
    "        # i が 5 のとき:\n",
    "        # multiple は range(5*5, 101, 5)で、range(25, 101, 5)となり、「25, 30, 35, ... 100 」の範囲で繰り返します。\n",
    "            is_not_prime[multiple] = True\n",
    "\n",
    "# 1から100までの数の中から素数を出力\n",
    "print(\"素数:\")\n",
    "# 1から100まで繰り返す\n",
    "for i in range(1, 101):\n",
    "    if not is_not_prime[i]:\n",
    "        print(i)\n"
   ]
  }
 ],
 "metadata": {
  "kernelspec": {
   "display_name": "Python 3",
   "language": "python",
   "name": "python3"
  },
  "language_info": {
   "codemirror_mode": {
    "name": "ipython",
    "version": 3
   },
   "file_extension": ".py",
   "mimetype": "text/x-python",
   "name": "python",
   "nbconvert_exporter": "python",
   "pygments_lexer": "ipython3",
   "version": "3.12.10"
  }
 },
 "nbformat": 4,
 "nbformat_minor": 5
}
