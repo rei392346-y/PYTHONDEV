{
 "cells": [
  {
   "cell_type": "code",
   "execution_count": 5,
   "id": "a5a093db",
   "metadata": {},
   "outputs": [
    {
     "name": "stdout",
     "output_type": "stream",
     "text": [
      "英単語を入力してください： あああ\n",
      "エラー：アルファベットのみを入力してください。\n",
      "英単語を入力してください： 本\n",
      "エラー：アルファベットのみを入力してください。\n",
      "英単語を入力してください： ３４５６\n",
      "エラー：アルファベットのみを入力してください。\n",
      "英単語を入力してください： 234\n",
      "エラー：アルファベットのみを入力してください。\n",
      "英単語を入力してください： dog\n",
      "英単語を入力してください： cat\n",
      "英単語を入力してください： inu\n",
      "英単語を入力してください： neko\n",
      "英単語を入力してください： \n",
      "\n",
      "入力した英単語：['cat', 'dog', 'inu', 'neko']\n",
      "\n",
      "文字数カウント結果：\n",
      "aが1個ありました\n",
      "cが1個ありました\n",
      "dが1個ありました\n",
      "eが1個ありました\n",
      "gが1個ありました\n",
      "iが1個ありました\n",
      "kが1個ありました\n",
      "nが2個ありました\n",
      "oが2個ありました\n",
      "tが1個ありました\n",
      "uが1個ありました\n"
     ]
    }
   ],
   "source": [
    "# 課題8：単語内の文字数カウント.ipynb\n",
    "import string\n",
    "import re\n",
    "\n",
    "# 英単語を格納するための空のリストを作成\n",
    "entered_words = []\n",
    "\n",
    "# キーがアルファベット、値が0の辞書を作成\n",
    "# string.ascii_lowercase を使って効率的に辞書を初期化します\n",
    "char_counts = {char: 0 for char in string.ascii_lowercase}\n",
    "\n",
    "# 無限ループで英単語の入力を受け付ける\n",
    "while True:\n",
    "    word = input(\"英単語を入力してください：\")\n",
    "    # 入力された値を表示\n",
    "    print(f\"英単語を入力してください： {word}\")\n",
    "    \n",
    "    # 未入力でリターンキーが押されたらループを終了\n",
    "    if not word:\n",
    "        break\n",
    "    \n",
    "    # 英字以外の文字が含まれていないかチェック\n",
    "    # `isalpha()`は日本語もアルファベットと見なすため、正規表現で厳密にチェック\n",
    "    if not re.match(\"^[a-zA-Z]+$\", word):\n",
    "        print(\"エラー：アルファベットのみを入力してください。\")\n",
    "        continue\n",
    "        \n",
    "    # 入力された単語をリストに追加（後でソートするため、元の形を保持）\n",
    "    entered_words.append(word)\n",
    "    \n",
    "    # 入力された単語の各文字をカウント\n",
    "    # すべて小文字に変換してカウントすることで、大文字・小文字を区別しない\n",
    "    for char in word.lower():\n",
    "        # アルファベットの文字のみカウントする\n",
    "        if char in char_counts:\n",
    "            char_counts[char] += 1\n",
    "\n",
    "# 入力された英単語のリストをABC順に並べ替え、表示\n",
    "entered_words.sort()\n",
    "print(f\"\\n入力した英単語：{entered_words}\")\n",
    "\n",
    "# 辞書を使って加算した値のうち、1文字以上あった文字と個数を表示\n",
    "print(\"\\n文字数カウント結果：\")\n",
    "for char, count in char_counts.items():\n",
    "    if count > 0:\n",
    "        print(f\"{char}が{count}個ありました\")\n"
   ]
  }
 ],
 "metadata": {
  "kernelspec": {
   "display_name": "Python 3",
   "language": "python",
   "name": "python3"
  },
  "language_info": {
   "codemirror_mode": {
    "name": "ipython",
    "version": 3
   },
   "file_extension": ".py",
   "mimetype": "text/x-python",
   "name": "python",
   "nbconvert_exporter": "python",
   "pygments_lexer": "ipython3",
   "version": "3.12.10"
  }
 },
 "nbformat": 4,
 "nbformat_minor": 5
}
