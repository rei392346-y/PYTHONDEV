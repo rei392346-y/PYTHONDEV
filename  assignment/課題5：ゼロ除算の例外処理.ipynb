{
 "cells": [
  {
   "cell_type": "code",
   "execution_count": null,
   "id": "02241c2d",
   "metadata": {},
   "outputs": [
    {
     "name": "stdout",
     "output_type": "stream",
     "text": [
      "割られる数に入力された値: １０\n",
      "割る数に入力された値: ０\n",
      "エラー：0で割り算しないでください\n",
      "処理を終了します\n"
     ]
    }
   ],
   "source": [
    "# 課題5：ゼロ除算の例外処理.ipynb\n",
    "\n",
    "try:\n",
    "    # 割られる数の入力を受け付ける\n",
    "    a_str = input(\"割られる数を入力してください：\")\n",
    "    print(f\"割られる数を入力してください: {a_str}\")\n",
    "    a = int(a_str)\n",
    "\n",
    "    # 割る数の入力を受け付ける\n",
    "    b_str = input(\"割る数を入力してください：\")\n",
    "    print(f\"割る数を入力してください: {b_str}\")\n",
    "    b = int(b_str)\n",
    "\n",
    "    # 割り算を実行\n",
    "    # 0で割り算された場合に備えて、この処理もtryブロック内に記述\n",
    "    c = a / b\n",
    "\n",
    "    # 割り算が成功した場合のみ結果を表示\n",
    "    print(f\"{a} ÷ {b} = {c}\")\n",
    "\n",
    "# ゼロで割り算した際のZeroDivisionErrorをキャッチ\n",
    "except ZeroDivisionError:\n",
    "    print(\"エラー：0で割り算しないでください\")\n",
    "\n",
    "# 数値ではない文字列が入力された際のValueErrorをキャッチ\n",
    "except ValueError:\n",
    "    print(\"エラー：数値を入力してください\")\n",
    "\n",
    "finally:\n",
    "    # 例外の発生有無にかかわらず、最後に必ず実行される\n",
    "    print(\"処理を終了します\")\n"
   ]
  },
  {
   "cell_type": "code",
   "execution_count": null,
   "id": "d72300b1",
   "metadata": {},
   "outputs": [],
   "source": []
  }
 ],
 "metadata": {
  "kernelspec": {
   "display_name": "Python 3",
   "language": "python",
   "name": "python3"
  },
  "language_info": {
   "codemirror_mode": {
    "name": "ipython",
    "version": 3
   },
   "file_extension": ".py",
   "mimetype": "text/x-python",
   "name": "python",
   "nbconvert_exporter": "python",
   "pygments_lexer": "ipython3",
   "version": "3.12.10"
  }
 },
 "nbformat": 4,
 "nbformat_minor": 5
}
