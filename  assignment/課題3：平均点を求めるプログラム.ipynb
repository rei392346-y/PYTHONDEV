{
 "cells": [
  {
   "cell_type": "code",
   "execution_count": 4,
   "id": "48c3e11b",
   "metadata": {},
   "outputs": [
    {
     "name": "stdout",
     "output_type": "stream",
     "text": [
      "入力された値: -5\n",
      "エラー: 0から200までの整数を入力してください。\n",
      "入力された値:  \n",
      "エラー: 有効な整数を入力してください。\n",
      "入力された値: 600\n",
      "エラー: 0から200までの整数を入力してください。\n",
      "入力された値: 80\n",
      "入力された値: 60\n",
      "入力された値: 52\n",
      "入力された値: 48\n",
      "入力された値: -1\n",
      "4人のテストの平均点は60.0点です\n"
     ]
    }
   ],
   "source": [
    "# 課題3：平均点を求めるプログラム\n",
    "\n",
    "# 合計点と人数を格納する変数を初期化\n",
    "total_score = 0\n",
    "number_of_students = 0\n",
    "\n",
    "# 無限ループを開始\n",
    "while True:\n",
    "    # ユーザーからの入力を文字列として受け取る\n",
    "    user_input = input(\"点数を整数で入力してください：\")\n",
    "    \n",
    "    # 入力された値を必ず表示\n",
    "    print(f\"入力された値: {user_input}\")\n",
    "\n",
    "    # -1 が入力されたらループを終了\n",
    "    if user_input == \"-1\":\n",
    "        break\n",
    "\n",
    "    try:\n",
    "        # 入力を整数に変換\n",
    "        score_input = int(user_input)\n",
    "\n",
    "    # 数字以外が入力された場合にValueErrorをキャッチしてエラーメッセージを表示\n",
    "    except ValueError:\n",
    "        print(\"エラー: 有効な整数を入力してください。\")\n",
    "        continue\n",
    "\n",
    "    # 入力された点数が有効な範囲（0〜200）であるかを確認\n",
    "    if score_input < 0 or score_input > 200:\n",
    "        print(\"エラー: 0から200までの整数を入力してください。\")\n",
    "        continue\n",
    "    \n",
    "    # 入力された点数を合計点に加算\n",
    "    total_score += score_input\n",
    "    \n",
    "    # 人数を1増やす\n",
    "    number_of_students += 1\n",
    "\n",
    "# 1人以上の点数が入力された場合に平均点を計算\n",
    "if number_of_students > 0:\n",
    "    # 平均点を計算\n",
    "    average_score = total_score / number_of_students\n",
    "    \n",
    "    # 平均点を小数第2位で四捨五入し、小数第1位まで表示\n",
    "    rounded_average = round(average_score, 1)\n",
    "\n",
    "    # 最終的な結果を表示\n",
    "    print(f\"{number_of_students}人のテストの平均点は{rounded_average}点です\")\n",
    "else:\n",
    "    # 点数が入力されなかった場合のメッセージ\n",
    "    print(\"点数が入力されませんでした。\")\n"
   ]
  }
 ],
 "metadata": {
  "kernelspec": {
   "display_name": "Python 3",
   "language": "python",
   "name": "python3"
  },
  "language_info": {
   "codemirror_mode": {
    "name": "ipython",
    "version": 3
   },
   "file_extension": ".py",
   "mimetype": "text/x-python",
   "name": "python",
   "nbconvert_exporter": "python",
   "pygments_lexer": "ipython3",
   "version": "3.12.10"
  }
 },
 "nbformat": 4,
 "nbformat_minor": 5
}
