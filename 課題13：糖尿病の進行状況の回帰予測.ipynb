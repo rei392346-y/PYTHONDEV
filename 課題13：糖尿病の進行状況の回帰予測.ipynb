{
  "cells": [
    {
      "cell_type": "markdown",
      "metadata": {
        "id": "3wxV98T0C9ZL"
      },
      "source": [
        "# 【課題】糖尿病の進行状況を予測（回帰）しよう"
      ]
    },
    {
      "cell_type": "markdown",
      "metadata": {
        "id": "tr8IwPgPDG8w"
      },
      "source": [
        "## データを読み込む"
      ]
    },
    {
      "cell_type": "markdown",
      "metadata": {
        "id": "hrtOoqJYYQbU"
      },
      "source": [
        "まずは、最初のセルを実行し、データを読み込んでください。今回はscikit-learnに標準で入っているデータを使います。"
      ]
    },
    {
      "cell_type": "code",
      "execution_count": 1,
      "metadata": {
        "id": "uG_1v9GACv2E"
      },
      "outputs": [],
      "source": [
        "# scikit-learnの糖尿病のデータセットを読み込む（変更しないでください）\n",
        "from sklearn import datasets\n",
        "diabetes_data = datasets.load_diabetes()"
      ]
    },
    {
      "cell_type": "markdown",
      "metadata": {
        "id": "u1EVP8iQYdd4"
      },
      "source": [
        "読み込んだデータについて確認します。"
      ]
    },
    {
      "cell_type": "code",
      "execution_count": 3,
      "metadata": {
        "id": "aajPTYB3ECpT"
      },
      "outputs": [
        {
          "name": "stdout",
          "output_type": "stream",
          "text": [
            ".. _diabetes_dataset:\n",
            "\n",
            "Diabetes dataset\n",
            "----------------\n",
            "\n",
            "Ten baseline variables, age, sex, body mass index, average blood\n",
            "pressure, and six blood serum measurements were obtained for each of n =\n",
            "442 diabetes patients, as well as the response of interest, a\n",
            "quantitative measure of disease progression one year after baseline.\n",
            "\n",
            "**Data Set Characteristics:**\n",
            "\n",
            ":Number of Instances: 442\n",
            "\n",
            ":Number of Attributes: First 10 columns are numeric predictive values\n",
            "\n",
            ":Target: Column 11 is a quantitative measure of disease progression one year after baseline\n",
            "\n",
            ":Attribute Information:\n",
            "    - age     age in years\n",
            "    - sex\n",
            "    - bmi     body mass index\n",
            "    - bp      average blood pressure\n",
            "    - s1      tc, total serum cholesterol\n",
            "    - s2      ldl, low-density lipoproteins\n",
            "    - s3      hdl, high-density lipoproteins\n",
            "    - s4      tch, total cholesterol / HDL\n",
            "    - s5      ltg, possibly log of serum triglycerides level\n",
            "    - s6      glu, blood sugar level\n",
            "\n",
            "Note: Each of these 10 feature variables have been mean centered and scaled by the standard deviation times the square root of `n_samples` (i.e. the sum of squares of each column totals 1).\n",
            "\n",
            "Source URL:\n",
            "https://www4.stat.ncsu.edu/~boos/var.select/diabetes.html\n",
            "\n",
            "For more information see:\n",
            "Bradley Efron, Trevor Hastie, Iain Johnstone and Robert Tibshirani (2004) \"Least Angle Regression,\" Annals of Statistics (with discussion), 407-499.\n",
            "(https://web.stanford.edu/~hastie/Papers/LARS/LeastAngle_2002.pdf)\n",
            "\n"
          ]
        }
      ],
      "source": [
        "# データセットのDESCRを確認する（変更しないでください）\n",
        "print(diabetes_data.DESCR)"
      ]
    },
    {
      "cell_type": "code",
      "execution_count": 4,
      "metadata": {
        "id": "WHzRiCt5Z8pD"
      },
      "outputs": [
        {
          "name": "stdout",
          "output_type": "stream",
          "text": [
            "(442, 10)\n",
            "(442,)\n"
          ]
        }
      ],
      "source": [
        "# 読み込んだデータが何行何列かをshapeで確認する（変更しないでください）\n",
        "print(diabetes_data.data.shape)\n",
        "print(diabetes_data.target.shape)"
      ]
    },
    {
      "cell_type": "markdown",
      "metadata": {
        "id": "DK88Rnv6Yga6"
      },
      "source": [
        "このデータは、糖尿病患者に関する10種類のデータを持っています。主要なもののみ、以下に概要を記載します。\n",
        "\n",
        "- `age`：年齢\n",
        "- `sex`：性別\n",
        "- `bmi`：身長と体重から計算されたBMI\n",
        "- `bp`：血圧の平均\n",
        "\n",
        "目的変数には、各患者の1年後の糖尿病の進行状況を数値化したものが入っています。\n",
        "\n",
        "今回は `bmi`（BMI）と `bp`（血圧）を説明変数として採用します。スライスを使い、`diabetes_data` の `data` と `target` から、それぞれ `X` と `y` を作成しましょう。なお、今回はscikit-learnが持つデータを読み込んでいるので、データはndarray型です。一度Pandasに変更してからスライスでも良いですが、ここではndarrayのまま `data` からスライスしています。"
      ]
    },
    {
      "cell_type": "code",
      "execution_count": 5,
      "metadata": {
        "id": "7bYxVSpaR8va"
      },
      "outputs": [],
      "source": [
        "# スライスして X と y を作成する（変更しないでください）\n",
        "X = diabetes_data.data[:, 2:4]\n",
        "y = diabetes_data.target"
      ]
    },
    {
      "cell_type": "markdown",
      "metadata": {
        "id": "kv-R-1Pea-mP"
      },
      "source": [
        "`X` の最初の10件を表示して、データがどのようになっているかを確認します。"
      ]
    },
    {
      "cell_type": "code",
      "execution_count": 7,
      "metadata": {
        "id": "Fo7pooWvSprv"
      },
      "outputs": [
        {
          "name": "stdout",
          "output_type": "stream",
          "text": [
            "--- 特徴量X（BMIと血圧）の最初の10件 ---\n",
            "[[ 0.06169621  0.02187239]\n",
            " [-0.05147406 -0.02632753]\n",
            " [ 0.04445121 -0.00567042]\n",
            " [-0.01159501 -0.03665608]\n",
            " [-0.03638469  0.02187239]\n",
            " [-0.04069594 -0.01944183]\n",
            " [-0.04716281 -0.01599898]\n",
            " [-0.00189471  0.06662945]\n",
            " [ 0.06169621 -0.04009893]\n",
            " [ 0.03906215 -0.03321323]]\n"
          ]
        }
      ],
      "source": [
        "# 特徴量（説明変数）の最初の10件をスライスして表示する\n",
        "print(\"--- 特徴量X（BMIと血圧）の最初の10件 ---\")\n",
        "print(X[:10])"
      ]
    },
    {
      "cell_type": "markdown",
      "metadata": {
        "id": "Pcn-edJXbjz-"
      },
      "source": [
        "このデータは最初から正規化されているため、このような数値となっています。\n",
        "\n",
        "`y` のデータも表示してみましょう。"
      ]
    },
    {
      "cell_type": "code",
      "execution_count": 8,
      "metadata": {
        "id": "ZuEe7RERbGlX"
      },
      "outputs": [
        {
          "name": "stdout",
          "output_type": "stream",
          "text": [
            "--- 目的変数y（1年後の糖尿病進行度）の最初の10件 ---\n",
            "[151.  75. 141. 206. 135.  97. 138.  63. 110. 310.]\n"
          ]
        }
      ],
      "source": [
        "# 目的変数の最初の10件をスライスして表示する\n",
        "print(\"--- 目的変数y（1年後の糖尿病進行度）の最初の10件 ---\")\n",
        "print(y[:10])\n"
      ]
    },
    {
      "cell_type": "markdown",
      "metadata": {
        "id": "3pH61xNZbTjg"
      },
      "source": [
        "`y`（糖尿病の進行状況）の数値がどのように計測、あるいは計算されたものかについての説明は公表されていませんが、数値が大きいほど、糖尿病が進行しているものと認識してください。"
      ]
    },
    {
      "cell_type": "markdown",
      "metadata": {
        "id": "5_EvGRj_buMR"
      },
      "source": [
        "## データの前処理について\n",
        "\n",
        "今回は、とくに何か前処理を行なう必要はありませんので、スキップして進めます。"
      ]
    },
    {
      "cell_type": "markdown",
      "metadata": {
        "id": "L_lecuWab7fg"
      },
      "source": [
        "## データを訓練データとテストデータに分ける"
      ]
    },
    {
      "cell_type": "markdown",
      "metadata": {
        "id": "Lq-Sw5fvcGId"
      },
      "source": [
        "X および y を訓練データとテストデータに分けましょう。その際、訓練データ8割、テストデータ2割としてください。また、並び順がランダムになるよう、分割してください。"
      ]
    },
    {
      "cell_type": "code",
      "execution_count": 21,
      "metadata": {
        "id": "bIj9VSwWWMrI"
      },
      "outputs": [
        {
          "name": "stdout",
          "output_type": "stream",
          "text": [
            "訓練データの形状: (353, 2)\n",
            "テストデータの形状: (89, 2)\n"
          ]
        }
      ],
      "source": [
        "# 訓練データ8割、テストデータ2割に分割する\n",
        "from sklearn.model_selection import train_test_split\n",
        "\n",
        "X_train, X_test, y_train, y_test = train_test_split(X, y, test_size=0.2, shuffle=True,random_state=42)\n",
        "# shuffle=True\n",
        "\"\"\"\n",
        "shuffle=Trueは、データをランダムに並び替える機能そのものです。\n",
        "train_test_splitでは、このshuffleは、**デフォルトでTrue**になっています。\n",
        "そのため、わざわざshuffle=Trueと書かなくても、自動的にデータはシャッフルされます。\n",
        "\"\"\"\n",
        "# random_state=42\n",
        "\"\"\"\n",
        "random_stateは、ランダムな処理を**固定するための「種（シード）」**のようなものです。\n",
        "shuffle機能は実行するたびに異なるランダムな結果を生み出しますが、random_stateに特定の数字（今回は42）を指定することで、そのランダムなシャッフルの仕方が固定されます。\n",
        "これにより、コードを何度実行しても、必ず同じようにデータが分割されるようになります。これを**「再現性の確保」**と言います。\n",
        "\"\"\"\n",
        "\n",
        "print(f\"訓練データの形状: {X_train.shape}\")\n",
        "print(f\"テストデータの形状: {X_test.shape}\")"
      ]
    },
    {
      "cell_type": "markdown",
      "metadata": {
        "id": "vxpuO1SjsjHK"
      },
      "source": [
        "## モデルを作成して訓練する"
      ]
    },
    {
      "cell_type": "markdown",
      "metadata": {
        "id": "WxmRvj3ZskNN"
      },
      "source": [
        "ここでは、レッスン本文でも利用した「線形回帰モデル」（`LinearRegression`）を使います。また、作成したモデルに訓練データを渡して、学習を行ないます。"
      ]
    },
    {
      "cell_type": "code",
      "execution_count": 11,
      "metadata": {
        "id": "Km3grQC8WPEf"
      },
      "outputs": [
        {
          "name": "stdout",
          "output_type": "stream",
          "text": [
            "モデルの訓練が完了しました。\n"
          ]
        }
      ],
      "source": [
        "# LinearRegressionの線形回帰モデルを作成する\n",
        "from sklearn.linear_model import LinearRegression\n",
        "model = LinearRegression()\n",
        "\n",
        "# 訓練データを使って訓練を行なう\n",
        "model.fit(X_train, y_train)\n",
        "print(\"モデルの訓練が完了しました。\")"
      ]
    },
    {
      "cell_type": "markdown",
      "metadata": {
        "id": "3Sfghtd9svor"
      },
      "source": [
        "## 期待する性能が出たかを評価する"
      ]
    },
    {
      "cell_type": "markdown",
      "metadata": {
        "id": "2omVJQocszn1"
      },
      "source": [
        "予測を実行しましょう。"
      ]
    },
    {
      "cell_type": "code",
      "execution_count": 12,
      "metadata": {
        "id": "Nu7gRDudWRGr"
      },
      "outputs": [
        {
          "name": "stdout",
          "output_type": "stream",
          "text": [
            "テストデータに対する予測が完了しました。\n"
          ]
        }
      ],
      "source": [
        "# テストデータを使って予測（回帰）を実行する\n",
        "y_pred = model.predict(X_test)\n",
        "print(\"テストデータに対する予測が完了しました。\")"
      ]
    },
    {
      "cell_type": "markdown",
      "metadata": {
        "id": "gs4I6X7rs119"
      },
      "source": [
        "モデルの評価を行なううえで、まずは予測値と正解値の散布図を作ります。"
      ]
    },
    {
      "cell_type": "code",
      "execution_count": null,
      "metadata": {
        "id": "nYlO0oEPWTGi"
      },
      "outputs": [
        {
          "data": {
            "image/png": "[encoded data removed]",
            "text/plain": [
              "<Figure size 800x800 with 1 Axes>"
            ]
          },
          "metadata": {},
          "output_type": "display_data"
        }
      ],
      "source": [
        "# 横軸が予測値、縦軸は正解値でプロットした散布図を表示する\n",
        "import matplotlib.pyplot as plt\n",
        "import japanize_matplotlib # 日本語表示のためにインポート\n",
        "# 便宜上、幅8インチ、高さ8インチの正方形のキャンバスとする。\n",
        "plt.figure(figsize=(8, 8))\n",
        "plt.scatter(y_pred, y_test)\n",
        "# 理想的な予測（y=x）の直線を引く\n",
        "plt.plot([y.min(), y.max()], [y.min(), y.max()], 'r--')\n",
        "plt.xlabel(\"予測値 (Predicted Value)\")\n",
        "plt.ylabel(\"正解値 (Actual Value)\")\n",
        "plt.title(\"予測値と正解値の散布図\")\n",
        "plt.grid(True)\n",
        "plt.show()\n"
      ]
    },
    {
      "cell_type": "markdown",
      "metadata": {
        "id": "8A-QWjLqtCUG"
      },
      "source": [
        "正解値と予測値の平均二乗誤差を求めます。"
      ]
    },
    {
      "cell_type": "code",
      "execution_count": 14,
      "metadata": {
        "id": "iMvEZzQmWcXp"
      },
      "outputs": [
        {
          "name": "stdout",
          "output_type": "stream",
          "text": [
            "平均二乗誤差 (MSE): 3740.51\n"
          ]
        }
      ],
      "source": [
        "# 正解値と予測値の平均二乗誤差を計算して表示する\n",
        "from sklearn.metrics import mean_squared_error\n",
        "mse = mean_squared_error(y_test, y_pred)\n",
        "print(f\"平均二乗誤差 (MSE): {mse:.2f}\")"
      ]
    },
    {
      "cell_type": "markdown",
      "metadata": {
        "id": "HJDe1RuMtJaP"
      },
      "source": [
        "平均二乗誤差の平方根を計算し、正解値と予測値のズレの大きさを求めましょう。"
      ]
    },
    {
      "cell_type": "code",
      "execution_count": 15,
      "metadata": {
        "id": "-q4gsK5mWe-X"
      },
      "outputs": [
        {
          "name": "stdout",
          "output_type": "stream",
          "text": [
            "二乗平均平方根誤差 (RMSE): 61.16\n"
          ]
        }
      ],
      "source": [
        "# 平均二乗誤差の平方根を計算して表示する\n",
        "import numpy as np\n",
        "rmse = np.sqrt(mse)\n",
        "print(f\"二乗平均平方根誤差 (RMSE): {rmse:.2f}\")\n"
      ]
    }
  ],
  "metadata": {
    "colab": {
      "provenance": []
    },
    "kernelspec": {
      "display_name": ".venv",
      "language": "python",
      "name": "python3"
    },
    "language_info": {
      "codemirror_mode": {
        "name": "ipython",
        "version": 3
      },
      "file_extension": ".py",
      "mimetype": "text/x-python",
      "name": "python",
      "nbconvert_exporter": "python",
      "pygments_lexer": "ipython3",
      "version": "3.12.10"
    }
  },
  "nbformat": 4,
  "nbformat_minor": 0
}
