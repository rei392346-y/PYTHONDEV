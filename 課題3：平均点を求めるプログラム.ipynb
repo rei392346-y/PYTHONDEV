{
 "cells": [
  {
   "cell_type": "code",
   "execution_count": null,
   "id": "48c3e11b",
   "metadata": {},
   "outputs": [],
   "source": [
    "# 課題3：平均点を求めるプログラム\n",
    "\n",
    "# 合計点と人数を格納する変数を初期化\n",
    "total_score = 0\n",
    "number_of_students = 0\n",
    "\n",
    "# 無限ループを開始\n",
    "while True:\n",
    "    # 点数を入力\n",
    "    score_input = int(input(\"点数を入力してください：\"))\n",
    "\n",
    "    # -1 が入力されたらループを終了\n",
    "    if score_input == -1:\n",
    "        break\n",
    "    \n",
    "    # 入力された点数を合計点に加算\n",
    "    total_score += score_input\n",
    "    \n",
    "    # 人数を1増やす\n",
    "    number_of_students += 1\n",
    "\n",
    "# 1人以上の点数が入力された場合に平均点を計算\n",
    "if number_of_students > 0:\n",
    "    # 平均点を計算\n",
    "    average_score = total_score / number_of_students\n",
    "    \n",
    "    # 平均点を小数第2位で四捨五入し、小数第1位まで表示\n",
    "    rounded_average = round(average_score, 1)\n",
    "\n",
    "    # 最終的な結果を表示\n",
    "    print(f\"{number_of_students}人のテストの平均点は{rounded_average}点です\")\n",
    "else:\n",
    "    # 点数が入力されなかった場合のメッセージ\n",
    "    print(\"点数が入力されませんでした。\")\n",
    "\n"
   ]
  }
 ],
 "metadata": {
  "language_info": {
   "name": "python"
  }
 },
 "nbformat": 4,
 "nbformat_minor": 5
}
