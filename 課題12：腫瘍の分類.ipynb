{
  "cells": [
    {
      "cell_type": "markdown",
      "metadata": {
        "id": "TWn0zyQIdo_t"
      },
      "source": [
        "# 【課題】腫瘍の良性／悪性を予測（分類）しよう"
      ]
    },
    {
      "cell_type": "markdown",
      "metadata": {
        "id": "enaoPFPQekiy"
      },
      "source": [
        "## データを読み込む"
      ]
    },
    {
      "cell_type": "markdown",
      "metadata": {
        "id": "CeY-DqOYiONL"
      },
      "source": [
        "`breast_cancer_wisconsin_data.csv` を読み込みましょう。"
      ]
    },
    {
      "cell_type": "code",
      "execution_count": 2,
      "metadata": {
        "id": "YqUT4ezQiUSQ"
      },
      "outputs": [],
      "source": [
        "# Pandasを使ってbreast_cancer_wisconsin_data.csvを読み込む（変更しないでください）\n",
        "import pandas as pd\n",
        "bc_data = pd.read_csv(\"breast_cancer_wisconsin_data.csv\")"
      ]
    },
    {
      "cell_type": "markdown",
      "metadata": {
        "id": "fW1INtrcsgjA"
      },
      "source": [
        "読み込んだデータについて確認します。"
      ]
    },
    {
      "cell_type": "code",
      "execution_count": 3,
      "metadata": {
        "id": "fmS_eWkDskg9"
      },
      "outputs": [
        {
          "name": "stdout",
          "output_type": "stream",
          "text": [
            "(569, 33)\n"
          ]
        }
      ],
      "source": [
        "# 読み込んだデータが何行何列かをshapeで確認する（変更しないでください）\n",
        "print(bc_data.shape)"
      ]
    },
    {
      "cell_type": "code",
      "execution_count": 4,
      "metadata": {
        "id": "-uNEBwjvs1vq"
      },
      "outputs": [
        {
          "data": {
            "text/html": [
              "<div>\n",
              "<style scoped>\n",
              "    .dataframe tbody tr th:only-of-type {\n",
              "        vertical-align: middle;\n",
              "    }\n",
              "\n",
              "    .dataframe tbody tr th {\n",
              "        vertical-align: top;\n",
              "    }\n",
              "\n",
              "    .dataframe thead th {\n",
              "        text-align: right;\n",
              "    }\n",
              "</style>\n",
              "<table border=\"1\" class=\"dataframe\">\n",
              "  <thead>\n",
              "    <tr style=\"text-align: right;\">\n",
              "      <th></th>\n",
              "      <th>id</th>\n",
              "      <th>diagnosis</th>\n",
              "      <th>radius_mean</th>\n",
              "      <th>texture_mean</th>\n",
              "      <th>perimeter_mean</th>\n",
              "      <th>area_mean</th>\n",
              "      <th>smoothness_mean</th>\n",
              "      <th>compactness_mean</th>\n",
              "      <th>concavity_mean</th>\n",
              "      <th>concave points_mean</th>\n",
              "      <th>...</th>\n",
              "      <th>texture_worst</th>\n",
              "      <th>perimeter_worst</th>\n",
              "      <th>area_worst</th>\n",
              "      <th>smoothness_worst</th>\n",
              "      <th>compactness_worst</th>\n",
              "      <th>concavity_worst</th>\n",
              "      <th>concave points_worst</th>\n",
              "      <th>symmetry_worst</th>\n",
              "      <th>fractal_dimension_worst</th>\n",
              "      <th>Unnamed: 32</th>\n",
              "    </tr>\n",
              "  </thead>\n",
              "  <tbody>\n",
              "    <tr>\n",
              "      <th>0</th>\n",
              "      <td>842302</td>\n",
              "      <td>M</td>\n",
              "      <td>17.99</td>\n",
              "      <td>10.38</td>\n",
              "      <td>122.80</td>\n",
              "      <td>1001.0</td>\n",
              "      <td>0.11840</td>\n",
              "      <td>0.27760</td>\n",
              "      <td>0.3001</td>\n",
              "      <td>0.14710</td>\n",
              "      <td>...</td>\n",
              "      <td>17.33</td>\n",
              "      <td>184.60</td>\n",
              "      <td>2019.0</td>\n",
              "      <td>0.1622</td>\n",
              "      <td>0.6656</td>\n",
              "      <td>0.7119</td>\n",
              "      <td>0.2654</td>\n",
              "      <td>0.4601</td>\n",
              "      <td>0.11890</td>\n",
              "      <td>NaN</td>\n",
              "    </tr>\n",
              "    <tr>\n",
              "      <th>1</th>\n",
              "      <td>842517</td>\n",
              "      <td>M</td>\n",
              "      <td>20.57</td>\n",
              "      <td>17.77</td>\n",
              "      <td>132.90</td>\n",
              "      <td>1326.0</td>\n",
              "      <td>0.08474</td>\n",
              "      <td>0.07864</td>\n",
              "      <td>0.0869</td>\n",
              "      <td>0.07017</td>\n",
              "      <td>...</td>\n",
              "      <td>23.41</td>\n",
              "      <td>158.80</td>\n",
              "      <td>1956.0</td>\n",
              "      <td>0.1238</td>\n",
              "      <td>0.1866</td>\n",
              "      <td>0.2416</td>\n",
              "      <td>0.1860</td>\n",
              "      <td>0.2750</td>\n",
              "      <td>0.08902</td>\n",
              "      <td>NaN</td>\n",
              "    </tr>\n",
              "    <tr>\n",
              "      <th>2</th>\n",
              "      <td>84300903</td>\n",
              "      <td>M</td>\n",
              "      <td>19.69</td>\n",
              "      <td>21.25</td>\n",
              "      <td>130.00</td>\n",
              "      <td>1203.0</td>\n",
              "      <td>0.10960</td>\n",
              "      <td>0.15990</td>\n",
              "      <td>0.1974</td>\n",
              "      <td>0.12790</td>\n",
              "      <td>...</td>\n",
              "      <td>25.53</td>\n",
              "      <td>152.50</td>\n",
              "      <td>1709.0</td>\n",
              "      <td>0.1444</td>\n",
              "      <td>0.4245</td>\n",
              "      <td>0.4504</td>\n",
              "      <td>0.2430</td>\n",
              "      <td>0.3613</td>\n",
              "      <td>0.08758</td>\n",
              "      <td>NaN</td>\n",
              "    </tr>\n",
              "    <tr>\n",
              "      <th>3</th>\n",
              "      <td>84348301</td>\n",
              "      <td>M</td>\n",
              "      <td>11.42</td>\n",
              "      <td>20.38</td>\n",
              "      <td>77.58</td>\n",
              "      <td>386.1</td>\n",
              "      <td>0.14250</td>\n",
              "      <td>0.28390</td>\n",
              "      <td>0.2414</td>\n",
              "      <td>0.10520</td>\n",
              "      <td>...</td>\n",
              "      <td>26.50</td>\n",
              "      <td>98.87</td>\n",
              "      <td>567.7</td>\n",
              "      <td>0.2098</td>\n",
              "      <td>0.8663</td>\n",
              "      <td>0.6869</td>\n",
              "      <td>0.2575</td>\n",
              "      <td>0.6638</td>\n",
              "      <td>0.17300</td>\n",
              "      <td>NaN</td>\n",
              "    </tr>\n",
              "    <tr>\n",
              "      <th>4</th>\n",
              "      <td>84358402</td>\n",
              "      <td>M</td>\n",
              "      <td>20.29</td>\n",
              "      <td>14.34</td>\n",
              "      <td>135.10</td>\n",
              "      <td>1297.0</td>\n",
              "      <td>0.10030</td>\n",
              "      <td>0.13280</td>\n",
              "      <td>0.1980</td>\n",
              "      <td>0.10430</td>\n",
              "      <td>...</td>\n",
              "      <td>16.67</td>\n",
              "      <td>152.20</td>\n",
              "      <td>1575.0</td>\n",
              "      <td>0.1374</td>\n",
              "      <td>0.2050</td>\n",
              "      <td>0.4000</td>\n",
              "      <td>0.1625</td>\n",
              "      <td>0.2364</td>\n",
              "      <td>0.07678</td>\n",
              "      <td>NaN</td>\n",
              "    </tr>\n",
              "  </tbody>\n",
              "</table>\n",
              "<p>5 rows × 33 columns</p>\n",
              "</div>"
            ],
            "text/plain": [
              "         id diagnosis  radius_mean  texture_mean  perimeter_mean  area_mean  \\\n",
              "0    842302         M        17.99         10.38          122.80     1001.0   \n",
              "1    842517         M        20.57         17.77          132.90     1326.0   \n",
              "2  84300903         M        19.69         21.25          130.00     1203.0   \n",
              "3  84348301         M        11.42         20.38           77.58      386.1   \n",
              "4  84358402         M        20.29         14.34          135.10     1297.0   \n",
              "\n",
              "   smoothness_mean  compactness_mean  concavity_mean  concave points_mean  \\\n",
              "0          0.11840           0.27760          0.3001              0.14710   \n",
              "1          0.08474           0.07864          0.0869              0.07017   \n",
              "2          0.10960           0.15990          0.1974              0.12790   \n",
              "3          0.14250           0.28390          0.2414              0.10520   \n",
              "4          0.10030           0.13280          0.1980              0.10430   \n",
              "\n",
              "   ...  texture_worst  perimeter_worst  area_worst  smoothness_worst  \\\n",
              "0  ...          17.33           184.60      2019.0            0.1622   \n",
              "1  ...          23.41           158.80      1956.0            0.1238   \n",
              "2  ...          25.53           152.50      1709.0            0.1444   \n",
              "3  ...          26.50            98.87       567.7            0.2098   \n",
              "4  ...          16.67           152.20      1575.0            0.1374   \n",
              "\n",
              "   compactness_worst  concavity_worst  concave points_worst  symmetry_worst  \\\n",
              "0             0.6656           0.7119                0.2654          0.4601   \n",
              "1             0.1866           0.2416                0.1860          0.2750   \n",
              "2             0.4245           0.4504                0.2430          0.3613   \n",
              "3             0.8663           0.6869                0.2575          0.6638   \n",
              "4             0.2050           0.4000                0.1625          0.2364   \n",
              "\n",
              "   fractal_dimension_worst  Unnamed: 32  \n",
              "0                  0.11890          NaN  \n",
              "1                  0.08902          NaN  \n",
              "2                  0.08758          NaN  \n",
              "3                  0.17300          NaN  \n",
              "4                  0.07678          NaN  \n",
              "\n",
              "[5 rows x 33 columns]"
            ]
          },
          "execution_count": 4,
          "metadata": {},
          "output_type": "execute_result"
        }
      ],
      "source": [
        "# 読み込んだデータの先頭5行を確認する（変更しないでください）\n",
        "bc_data.head()"
      ]
    },
    {
      "cell_type": "code",
      "execution_count": 5,
      "metadata": {
        "id": "nF--Wff3s9hO"
      },
      "outputs": [
        {
          "data": {
            "text/plain": [
              "id                           842302\n",
              "diagnosis                         M\n",
              "radius_mean                   17.99\n",
              "texture_mean                  10.38\n",
              "perimeter_mean                122.8\n",
              "area_mean                    1001.0\n",
              "smoothness_mean              0.1184\n",
              "compactness_mean             0.2776\n",
              "concavity_mean               0.3001\n",
              "concave points_mean          0.1471\n",
              "symmetry_mean                0.2419\n",
              "fractal_dimension_mean      0.07871\n",
              "radius_se                     1.095\n",
              "texture_se                   0.9053\n",
              "perimeter_se                  8.589\n",
              "area_se                       153.4\n",
              "smoothness_se              0.006399\n",
              "compactness_se              0.04904\n",
              "concavity_se                0.05373\n",
              "concave points_se           0.01587\n",
              "symmetry_se                 0.03003\n",
              "fractal_dimension_se       0.006193\n",
              "radius_worst                  25.38\n",
              "texture_worst                 17.33\n",
              "perimeter_worst               184.6\n",
              "area_worst                   2019.0\n",
              "smoothness_worst             0.1622\n",
              "compactness_worst            0.6656\n",
              "concavity_worst              0.7119\n",
              "concave points_worst         0.2654\n",
              "symmetry_worst               0.4601\n",
              "fractal_dimension_worst      0.1189\n",
              "Unnamed: 32                     NaN\n",
              "Name: 0, dtype: object"
            ]
          },
          "execution_count": 5,
          "metadata": {},
          "output_type": "execute_result"
        }
      ],
      "source": [
        "# 読み込んだデータの先頭の1行だけを確認する（変更しないでください）\n",
        "bc_data.iloc[0, :]"
      ]
    },
    {
      "cell_type": "markdown",
      "metadata": {
        "id": "41oCK0t9ti92"
      },
      "source": [
        "このCSVファイルには30以上の列があります。主要な列のみ、以下に概要を記載します。\n",
        "\n",
        "- id：連番\n",
        "- diagnosis：\"B\"か\"M\"の文字が格納されている（\"B\"：良性、\"M\"：悪性）\n",
        "- radius_mean：中心から外周までの平均距離（半径）\n",
        "- texture_mean：グレースケール（色の濃さ）の平均値\n",
        "- perimeter_mean：外周の平均の長さ"
      ]
    },
    {
      "cell_type": "markdown",
      "metadata": {
        "id": "DkK-rhF9t8Nl"
      },
      "source": [
        "今回は `radius_mean`（半径）と `perimeter_mean`（外周の長さ）を説明変数、`diagnosis`（良性か悪性か）を目的変数として分類を行ないます。\n",
        "\n",
        "データの前処理や分割を行なう前に、スライスを使って、`radius_mean`列と`perimeter_mean`列を変数`X`、`diagnosis` 列のみを変数 `y` に格納してください。また、PandasでCSVを読み込んだため、データはDataFrame形式となっています。そのため、データはndarray形式に変換してください。"
      ]
    },
    {
      "cell_type": "code",
      "execution_count": 7,
      "metadata": {
        "id": "H7YcaFqxvPxF"
      },
      "outputs": [
        {
          "name": "stdout",
          "output_type": "stream",
          "text": [
            "Xの形状: (569, 2)\n",
            "yの形状: (569,)\n",
            "Xの型: <class 'numpy.ndarray'>\n",
            "yの型: <class 'numpy.ndarray'>\n",
            "\n",
            "--- X (最初の5行) ---\n",
            "[[ 17.99 122.8 ]\n",
            " [ 20.57 132.9 ]\n",
            " [ 19.69 130.  ]\n",
            " [ 11.42  77.58]\n",
            " [ 20.29 135.1 ]]\n",
            "\n",
            "--- y (最初の5行) ---\n",
            "['M' 'M' 'M' 'M' 'M']\n"
          ]
        }
      ],
      "source": [
        "# スライスとndarrayへの変換をして X と y を作成する\n",
        "X = bc_data[['radius_mean', 'perimeter_mean']].values\n",
        "y = bc_data['diagnosis'].values\n",
        "\n",
        "# データの形状と型を確認します\n",
        "print(f'Xの形状: {X.shape}')\n",
        "print(f'yの形状: {y.shape}')\n",
        "print(f'Xの型: {type(X)}')\n",
        "print(f'yの型: {type(y)}')\n",
        "\n",
        "# 最初の5行を表示して中身を確認します\n",
        "print('\\n--- X (最初の5行) ---')\n",
        "print(X[:5])\n",
        "print('\\n--- y (最初の5行) ---')\n",
        "print(y[:5])\n"
      ]
    },
    {
      "cell_type": "markdown",
      "metadata": {
        "id": "ROUfpyB0wEQy"
      },
      "source": [
        "## データの前処理を行なう"
      ]
    },
    {
      "cell_type": "markdown",
      "metadata": {
        "id": "imN-hd3LwKHR"
      },
      "source": [
        "さて、`y` には \"B\" もしくは \"M\" という文字データが入っています。数値化した方がコンピュータは学習しやすくなるので、データの前処理の1つ「カテゴリ値の数値化」を実行しましょう。カテゴリ値の数値化をするには `LabelEncoder` というものを利用します。\n",
        "\n",
        "[sklearn.preprocessing.LabelEncoder](https://scikit-learn.org/stable/modules/generated/sklearn.preprocessing.LabelEncoder.html)\n",
        "\n",
        "※ `LabelEncoder` は、レッスン本文では登場しませんでしたので、以下のコードをそのまま実行すれば大丈夫です。このコードは、上記の公式ドキュメントの内容に沿って記述されています。**なお、このとき `y` は、NumPyのndarray形式に変換されている必要があります。**"
      ]
    },
    {
      "cell_type": "code",
      "execution_count": 8,
      "metadata": {
        "id": "wcekAgIowoxs"
      },
      "outputs": [
        {
          "data": {
            "text/plain": [
              "array([1, 1, 1, 1, 1, 1, 1, 1, 1, 1, 1, 1, 1, 1, 1, 1, 1, 1, 1, 0, 0, 0,\n",
              "       1, 1, 1, 1, 1, 1, 1, 1, 1, 1, 1, 1, 1, 1, 1, 0, 1, 1, 1, 1, 1, 1,\n",
              "       1, 1, 0, 1, 0, 0, 0, 0, 0, 1, 1, 0, 1, 1, 0, 0, 0, 0, 1, 0, 1, 1,\n",
              "       0, 0, 0, 0, 1, 0, 1, 1, 0, 1, 0, 1, 1, 0, 0, 0, 1, 1, 0, 1, 1, 1,\n",
              "       0, 0, 0, 1, 0, 0, 1, 1, 0, 0, 0, 1, 1, 0, 0, 0, 0, 1, 0, 0, 1, 0,\n",
              "       0, 0, 0, 0, 0, 0, 0, 1, 1, 1, 0, 1, 1, 0, 0, 0, 1, 1, 0, 1, 0, 1,\n",
              "       1, 0, 1, 1, 0, 0, 1, 0, 0, 1, 0, 0, 0, 0, 1, 0, 0, 0, 0, 0, 0, 0,\n",
              "       0, 0, 1, 0, 0, 0, 0, 1, 1, 0, 1, 0, 0, 1, 1, 0, 0, 1, 1, 0, 0, 0,\n",
              "       0, 1, 0, 0, 1, 1, 1, 0, 1, 0, 1, 0, 0, 0, 1, 0, 0, 1, 1, 0, 1, 1,\n",
              "       1, 1, 0, 1, 1, 1, 0, 1, 0, 1, 0, 0, 1, 0, 1, 1, 1, 1, 0, 0, 1, 1,\n",
              "       0, 0, 0, 1, 0, 0, 0, 0, 0, 1, 1, 0, 0, 1, 0, 0, 1, 1, 0, 1, 0, 0,\n",
              "       0, 0, 1, 0, 0, 0, 0, 0, 1, 0, 1, 1, 1, 1, 1, 1, 1, 1, 1, 1, 1, 1,\n",
              "       1, 1, 0, 0, 0, 0, 0, 0, 1, 0, 1, 0, 0, 1, 0, 0, 1, 0, 1, 1, 0, 0,\n",
              "       0, 0, 0, 0, 0, 0, 0, 0, 0, 0, 0, 1, 0, 0, 1, 0, 1, 0, 0, 0, 0, 0,\n",
              "       0, 0, 0, 0, 0, 0, 0, 0, 0, 1, 0, 0, 0, 1, 0, 1, 0, 0, 0, 0, 1, 1,\n",
              "       1, 0, 0, 0, 0, 1, 0, 1, 0, 1, 0, 0, 0, 1, 0, 0, 0, 0, 0, 0, 0, 1,\n",
              "       1, 1, 0, 0, 0, 0, 0, 0, 0, 0, 0, 0, 0, 1, 1, 0, 1, 1, 1, 0, 1, 1,\n",
              "       0, 0, 0, 0, 0, 1, 0, 0, 0, 0, 0, 1, 0, 0, 0, 1, 0, 0, 1, 1, 0, 0,\n",
              "       0, 0, 0, 0, 1, 0, 0, 0, 0, 0, 0, 0, 1, 0, 0, 0, 0, 0, 1, 0, 0, 1,\n",
              "       0, 0, 0, 0, 0, 0, 0, 0, 0, 0, 0, 0, 1, 0, 1, 1, 0, 1, 0, 0, 0, 0,\n",
              "       0, 1, 0, 0, 1, 0, 1, 0, 0, 1, 0, 1, 0, 0, 0, 0, 0, 0, 0, 0, 1, 1,\n",
              "       0, 0, 0, 0, 0, 0, 1, 0, 0, 0, 0, 0, 0, 0, 0, 0, 0, 1, 0, 0, 0, 0,\n",
              "       0, 0, 0, 1, 0, 1, 0, 0, 1, 0, 0, 0, 0, 0, 1, 1, 0, 1, 0, 1, 0, 0,\n",
              "       0, 0, 0, 1, 0, 0, 1, 0, 1, 0, 1, 1, 0, 0, 0, 1, 0, 0, 0, 0, 0, 0,\n",
              "       0, 0, 0, 0, 0, 1, 0, 1, 1, 0, 0, 0, 0, 0, 0, 0, 0, 0, 0, 0, 0, 0,\n",
              "       0, 0, 0, 0, 0, 0, 0, 0, 0, 0, 0, 0, 1, 1, 1, 1, 1, 1, 0])"
            ]
          },
          "execution_count": 8,
          "metadata": {},
          "output_type": "execute_result"
        }
      ],
      "source": [
        "# カテゴリ値の数値化\n",
        "# （変更しないでください）\n",
        "from sklearn.preprocessing import LabelEncoder\n",
        "le = LabelEncoder()\n",
        "le.fit([\"B\", \"M\"])    # 良性：0, 悪性：1\n",
        "y = le.transform(y)\n",
        "\n",
        "# 数値化した状態を確認してみる（変更しないでください）\n",
        "y"
      ]
    },
    {
      "cell_type": "markdown",
      "metadata": {
        "id": "edZwmr0uyCud"
      },
      "source": [
        "## データを訓練データとテストデータに分ける"
      ]
    },
    {
      "cell_type": "markdown",
      "metadata": {
        "id": "vZ76BtqbyE9X"
      },
      "source": [
        "`X` および `y` を訓練データとテストデータに分けましょう。その際、訓練データ8割、テストデータ2割としてください。また、並び順がランダムになるよう、分割してください。"
      ]
    },
    {
      "cell_type": "code",
      "execution_count": 11,
      "metadata": {
        "id": "BFmSr525yH5T"
      },
      "outputs": [
        {
          "name": "stdout",
          "output_type": "stream",
          "text": [
            "X_trainの形状: (455, 2)\n",
            "X_testの形状: (114, 2)\n",
            "y_trainの形状: (455,)\n",
            "y_testの形状: (114,)\n"
          ]
        }
      ],
      "source": [
        "# 訓練データ8割、テストデータ2割に分割する\n",
        "# 訓練データとテストデータに分割するためのインポート\n",
        "from sklearn.model_selection import train_test_split\n",
        "\n",
        "# 訓練データ＝train、テストデータ＝test\n",
        "# test_size=0.2 とすることで、テストデータの割合を20%に指定\n",
        "# shuffle=True を指定して、データを分割する前にシャッフル（ランダムに並び替え）します\n",
        "X_train, X_test, y_train, y_test = train_test_split(X, y, test_size=0.2, shuffle=True)\n",
        "\n",
        "# 分割後のデータの形状を確認します\n",
        "print(\"X_trainの形状:\", X_train.shape)\n",
        "print(\"X_testの形状:\", X_test.shape)\n",
        "print(\"y_trainの形状:\", y_train.shape)\n",
        "print(\"y_testの形状:\", y_test.shape)\n"
      ]
    },
    {
      "cell_type": "markdown",
      "metadata": {
        "id": "IromdmDAzE7m"
      },
      "source": [
        "## モデルを作成して訓練する"
      ]
    },
    {
      "cell_type": "markdown",
      "metadata": {
        "id": "kyM7doXOzLHx"
      },
      "source": [
        "ここでは、レッスン本文でも利用した「サポートベクターマシン」（`SVC`）の線形分類モデルを使います。また、作成したモデルに訓練データを渡して、学習を行ないます。"
      ]
    },
    {
      "cell_type": "code",
      "execution_count": 12,
      "metadata": {
        "id": "gmMtWDs9zG0x"
      },
      "outputs": [
        {
          "name": "stdout",
          "output_type": "stream",
          "text": [
            "モデルの訓練が完了しました。\n",
            "使用したモデル: SVC(kernel='linear', random_state=0)\n"
          ]
        }
      ],
      "source": [
        "# SVCの線形分類モデルを作成する\n",
        "# サポートベクターマシン（SVC）をインポートします\n",
        "from sklearn.svm import SVC\n",
        "\n",
        "# kernel='linear' を指定して、線形カーネルを使用します\n",
        "# random_state=0 を指定して、結果の再現性を確保します\n",
        "model = SVC(kernel='linear', random_state=0)\n",
        "\n",
        "# 訓練データを使って訓練を行なう\n",
        "# model.fit() に訓練データ（X_train, y_train）を渡します\n",
        "model.fit(X_train, y_train)\n",
        "\n",
        "# モデルの訓練が完了したことを確認するために、モデルの情報を表示します\n",
        "print(\"モデルの訓練が完了しました。\")\n",
        "print(\"使用したモデル:\", model)\n"
      ]
    },
    {
      "cell_type": "markdown",
      "metadata": {
        "id": "ufwZH4Ds1bmj"
      },
      "source": [
        "## 期待する性能が出たかを評価する"
      ]
    },
    {
      "cell_type": "markdown",
      "metadata": {
        "id": "vaLbbC0e1f1A"
      },
      "source": [
        "分類を行ないましょう。"
      ]
    },
    {
      "cell_type": "code",
      "execution_count": 13,
      "metadata": {
        "id": "yMsJogfB1hgP"
      },
      "outputs": [
        {
          "name": "stdout",
          "output_type": "stream",
          "text": [
            "テストデータによる予測が完了しました。\n"
          ]
        }
      ],
      "source": [
        "# テストデータを使って分類を実行する\n",
        "# model.predict() にテストデータ（X_test）を渡して、予測結果を得ます\n",
        "y_pred = model.predict(X_test)\n",
        "\n",
        "print(\"テストデータによる予測が完了しました。\")"
      ]
    },
    {
      "cell_type": "markdown",
      "metadata": {
        "id": "9DCk2bMn1svD"
      },
      "source": [
        "この分類結果を用いて、モデルの評価を行ないます。\n",
        "\n",
        "まずは、予測値と実際の値をそのまま表示してください。"
      ]
    },
    {
      "cell_type": "code",
      "execution_count": 14,
      "metadata": {
        "id": "f1WrG6qV1w25"
      },
      "outputs": [
        {
          "name": "stdout",
          "output_type": "stream",
          "text": [
            "--- 予測値 ---\n",
            "[0 0 1 0 0 0 0 0 0 1 0 0 0 0 0 0 1 1 1 0 0 1 0 1 0 1 1 0 1 1 1 1 0 0 1 1 0\n",
            " 0 1 0 1 0 1 0 1 1 0 0 1 0 0 1 1 0 0 0 1 1 0 0 0 0 0 0 0 1 1 0 1 0 0 0 0 1\n",
            " 1 0 1 0 0 0 0 1 0 0 0 1 0 0 0 1 1 0 0 1 0 0 1 1 1 0 0 0 0 0 0 0 0 0 0 0 0\n",
            " 0 0 0]\n"
          ]
        }
      ],
      "source": [
        "# 予測値を表示する\n",
        "# 上で作成した予測結果（y_pred）の中身を確認します\n",
        "print(\"--- 予測値 ---\")\n",
        "print(y_pred)"
      ]
    },
    {
      "cell_type": "code",
      "execution_count": 15,
      "metadata": {
        "id": "1qBBnTwk17-z"
      },
      "outputs": [
        {
          "name": "stdout",
          "output_type": "stream",
          "text": [
            "--- 実際の値 ---\n",
            "[0 0 1 0 0 0 0 0 0 1 0 0 0 0 0 0 1 1 1 0 0 1 0 1 0 1 1 0 1 1 1 1 0 0 1 1 0\n",
            " 0 1 0 1 1 1 0 1 1 0 0 1 0 0 1 1 0 0 0 1 1 0 0 0 0 0 0 0 1 1 0 1 0 0 0 0 1\n",
            " 1 0 1 0 0 0 0 1 0 0 0 1 0 0 0 0 1 0 0 1 1 0 1 1 1 0 1 0 1 0 0 0 1 0 0 0 0\n",
            " 1 0 1]\n"
          ]
        }
      ],
      "source": [
        "# 実際の値を表示する\n",
        "# 予測値（y_pred）と比較するために、実際の正解データ（y_test）を表示します\n",
        "print(\"--- 実際の値 ---\")\n",
        "print(y_test)"
      ]
    },
    {
      "cell_type": "markdown",
      "metadata": {
        "id": "DjTmCVyu2CbQ"
      },
      "source": [
        "予測の精度を混同行列で示しましょう。"
      ]
    },
    {
      "cell_type": "code",
      "execution_count": 16,
      "metadata": {
        "id": "1Dd-M4qM2EBa"
      },
      "outputs": [
        {
          "name": "stdout",
          "output_type": "stream",
          "text": [
            "--- 混同行列 ---\n",
            "[[68  1]\n",
            " [ 7 38]]\n"
          ]
        }
      ],
      "source": [
        "# 混同行列で集計結果を表示する\n",
        "# 混同行列を計算・表示するためのインポート\n",
        "from sklearn.metrics import confusion_matrix\n",
        "\n",
        "# confusion_matrixに実際の値（y_test）と予測値（y_pred）を渡します\n",
        "cm = confusion_matrix(y_test, y_pred)\n",
        "\n",
        "print(\"--- 混同行列 ---\")\n",
        "print(cm)"
      ]
    },
    {
      "cell_type": "markdown",
      "metadata": {
        "id": "O1tIlN8a2YWy"
      },
      "source": [
        "最後に `classification_report()` を実行し、結果を表示してください。"
      ]
    },
    {
      "cell_type": "code",
      "execution_count": 17,
      "metadata": {
        "id": "FQ2rUebn2WoU"
      },
      "outputs": [
        {
          "name": "stdout",
          "output_type": "stream",
          "text": [
            "--- 分類レポート ---\n",
            "              precision    recall  f1-score   support\n",
            "\n",
            "           0       0.91      0.99      0.94        69\n",
            "           1       0.97      0.84      0.90        45\n",
            "\n",
            "    accuracy                           0.93       114\n",
            "   macro avg       0.94      0.91      0.92       114\n",
            "weighted avg       0.93      0.93      0.93       114\n",
            "\n"
          ]
        }
      ],
      "source": [
        "# classification_report()の実行結果を表示する\n",
        "# classification_reportを計算・表示するためのインポート\n",
        "from sklearn.metrics import classification_report\n",
        "\n",
        "# classification_reportに実際の値（y_test）と予測値（y_pred）を渡します\n",
        "report = classification_report(y_test, y_pred)\n",
        "\n",
        "print(\"--- 分類レポート ---\")\n",
        "print(report)\n"
      ]
    }
  ],
  "metadata": {
    "colab": {
      "provenance": []
    },
    "kernelspec": {
      "display_name": ".venv",
      "language": "python",
      "name": "python3"
    },
    "language_info": {
      "codemirror_mode": {
        "name": "ipython",
        "version": 3
      },
      "file_extension": ".py",
      "mimetype": "text/x-python",
      "name": "python",
      "nbconvert_exporter": "python",
      "pygments_lexer": "ipython3",
      "version": "3.12.10"
    }
  },
  "nbformat": 4,
  "nbformat_minor": 0
}
