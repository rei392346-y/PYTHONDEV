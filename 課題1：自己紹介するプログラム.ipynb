{
 "cells": [
  {
   "cell_type": "code",
   "execution_count": 3,
   "id": "fcc98037",
   "metadata": {},
   "outputs": [
    {
     "name": "stdout",
     "output_type": "stream",
     "text": [
      "名前を入力してください: reiji takamoto\n",
      "現在の年齢を入力してください: 29\n",
      "私の名前は reiji takamoto です。来年で 30 歳になります。\n"
     ]
    }
   ],
   "source": [
    "# 命令1: 名前を入力して変数 'name' に格納する\n",
    "name = input(\"名前を入力してください：\")\n",
    "print(f\"名前を入力してください: {name}\")\n",
    "\n",
    "# 命令2: 現在の年齢を入力して変数 'age' に格納する\n",
    "# input()で受け取った値は文字列なので、整数に変換します\n",
    "age = int(input(\"現在の年齢を入力してください：\"))\n",
    "print(f\"現在の年齢を入力してください: {age}\")\n",
    "\n",
    "# 命令3: 名前と年齢、来年の年齢を含む自己紹介文を、例の表示形式で出力します\n",
    "# input()で受け取った値を、プロンプトと合わせて改めて表示します。\n",
    "print(f\"私の名前は {name} です。来年で {age + 1} 歳になります。\")\n"
   ]
  }
 ],
 "metadata": {
  "kernelspec": {
   "display_name": "Python 3",
   "language": "python",
   "name": "python3"
  },
  "language_info": {
   "codemirror_mode": {
    "name": "ipython",
    "version": 3
   },
   "file_extension": ".py",
   "mimetype": "text/x-python",
   "name": "python",
   "nbconvert_exporter": "python",
   "pygments_lexer": "ipython3",
   "version": "3.12.10"
  }
 },
 "nbformat": 4,
 "nbformat_minor": 5
}
